{
 "cells": [
  {
   "cell_type": "code",
   "execution_count": null,
   "metadata": {},
   "outputs": [],
   "source": [
    "import numpy as np\n",
    "import tensorflow as tf\n",
    "import matplotlib.pyplot as plt\n",
    "\n",
    "import robustml\n",
    "from obfuscated_gradients.thermometer.robustml_model import Thermometer\n",
    "\n",
    "from obfuscated_gradients.thermometer.robustml_attack import Attack as Attack_Orig\n",
    "from src.robustml_attack_ce import Attack as Attack_CE\n",
    "from src.robustml_apgd import Attack as Attack_Apgd"
   ]
  },
  {
   "cell_type": "code",
   "execution_count": null,
   "metadata": {},
   "outputs": [],
   "source": [
    "# set up TensorFlow session\n",
    "sess = tf.compat.v1.Session()\n",
    "\n",
    "# initialize a model\n",
    "model = Thermometer(sess)\n",
    "\n",
    "# initialize a data provider for CIFAR-10 images\n",
    "cifar_path = r'.\\cifar10_data\\test_batch'\n",
    "provider = robustml.provider.CIFAR10(cifar_path)\n",
    "\n",
    "# Change these to run the evaluation on a different set of test images\n",
    "eval_start_idx = 0\n",
    "eval_end_idx = 100\n",
    "\n",
    "# Initialize the attacks\n",
    "attack_orig = Attack_Orig(sess, model.model, epsilon=model.threat_model.epsilon)\n",
    "attack_ce = Attack_CE(sess, model.model, epsilon=model.threat_model.epsilon)\n",
    "attack_apgd = Attack_Apgd(sess, model._model, epsilon=model.threat_model.epsilon)\n",
    "\n",
    "# Note: This will generate a few TensorFlow deprecation warnings, but everything should still work"
   ]
  },
  {
   "cell_type": "markdown",
   "metadata": {},
   "source": [
    "Original Attack"
   ]
  },
  {
   "cell_type": "code",
   "execution_count": null,
   "metadata": {},
   "outputs": [],
   "source": [
    "print('Evaluating the Original Attack')\n",
    "success_rate = robustml.evaluate.evaluate(\n",
    "    model,\n",
    "    attack_orig,\n",
    "    provider,\n",
    "    start=eval_start_idx,\n",
    "    end=eval_end_idx,\n",
    "    deterministic=True,\n",
    "    debug=False,\n",
    ")\n",
    "\n",
    "print('attack success rate: %.2f%% (over %d data points)' % (success_rate*100, eval_end_idx-eval_start_idx))"
   ]
  },
  {
   "cell_type": "markdown",
   "metadata": {},
   "source": [
    "Original Attack with Cross Entropy Loss"
   ]
  },
  {
   "cell_type": "code",
   "execution_count": null,
   "metadata": {},
   "outputs": [],
   "source": [
    "print('Evaluating the Original Attack modified to use Cross Entropy Loss')\n",
    "success_rate = robustml.evaluate.evaluate(\n",
    "    model,\n",
    "    attack_ce,\n",
    "    provider,\n",
    "    start=eval_start_idx,\n",
    "    end=eval_end_idx,\n",
    "    deterministic=True,\n",
    "    debug=False,\n",
    ")\n",
    "\n",
    "print('attack success rate: %.2f%% (over %d data points)' % (success_rate*100, eval_end_idx-eval_start_idx))"
   ]
  },
  {
   "cell_type": "markdown",
   "metadata": {},
   "source": [
    "Auto-PGD Attack"
   ]
  },
  {
   "cell_type": "code",
   "execution_count": null,
   "metadata": {},
   "outputs": [],
   "source": [
    "print('Evaluating the Auto-PGD Attack')\n",
    "success_rate = robustml.evaluate.evaluate(\n",
    "    model,\n",
    "    attack_apgd,\n",
    "    provider,\n",
    "    start=eval_start_idx,\n",
    "    end=eval_end_idx,\n",
    "    deterministic=True,\n",
    "    debug=False,\n",
    ")\n",
    "\n",
    "print('attack success rate: %.2f%% (over %d data points)' % (success_rate*100, eval_end_idx-eval_start_idx))"
   ]
  },
  {
   "cell_type": "markdown",
   "metadata": {},
   "source": [
    "Sample Adversarial Images"
   ]
  },
  {
   "cell_type": "code",
   "execution_count": null,
   "metadata": {},
   "outputs": [],
   "source": [
    "def get_logits(x):\n",
    "    x = x * 255.0\n",
    "    # first encode the input, then classify it\n",
    "    encoded = model.encode(x)\n",
    "    logits = tf.nn.softmax(model._model.pre_softmax)\n",
    "    return model._sess.run(logits, {model._model.x_input: encoded})[0]\n",
    "    \n",
    "\n",
    "cifar_labels = ['airplane', 'automobile', 'bird', 'cat', 'deer', 'dog', 'frog', 'horse', 'ship', 'truck']\n",
    "\n",
    "def display_image_logits(img, logits, label):\n",
    "    fig, (ax1, ax2) = plt.subplots(1, 2, figsize=(12, 4))\n",
    "    \n",
    "    # Display image    \n",
    "    # Remove tick marks\n",
    "    ax1.tick_params(\n",
    "        axis='x',\n",
    "        which='both',\n",
    "        bottom=False,\n",
    "        top=False,\n",
    "        labelbottom=False)\n",
    "    \n",
    "    ax1.tick_params(\n",
    "        axis='y',\n",
    "        which='both',\n",
    "        left=False,\n",
    "        right=False,\n",
    "        labelleft=False)\n",
    "    \n",
    "    ax1.set_title(\"Input Image\")\n",
    "    ax1.imshow(img)\n",
    "\n",
    "    # Display logits as bar chart\n",
    "    barlist = ax2.bar(range(10), logits)\n",
    "    \n",
    "    # Color the classified class red\n",
    "    top_idx = np.argmax(logits)\n",
    "    barlist[top_idx].set_color('r')\n",
    "    \n",
    "    # Color the correct class green\n",
    "    barlist[label].set_color('g')\n",
    "    \n",
    "    ax2.set_title(\"Classifier Output Logits\")\n",
    "    ax2.set_xlabel(\"CIFAR-10 Classes\")\n",
    "    ax2.set_ylabel(\"Probabilty Logit\")\n",
    "    ax2.set_ylim(0.0, 1.1)\n",
    "    ax2.set_xticks(range(10))\n",
    "    ax2.set_xticklabels(cifar_labels)\n",
    "    ax2.tick_params(\n",
    "        axis='x',\n",
    "        which='both',\n",
    "        labelrotation=90.0)\n",
    "    \n",
    "    fig.subplots_adjust(bottom=0.2)\n",
    "    plt.show()"
   ]
  },
  {
   "cell_type": "markdown",
   "metadata": {},
   "source": [
    "Retrieve Clean Image from Provider"
   ]
  },
  {
   "cell_type": "code",
   "execution_count": null,
   "metadata": {},
   "outputs": [],
   "source": [
    "img_idx = 0     # Change this to use a different sample image\n",
    "img, label = provider[img_idx]"
   ]
  },
  {
   "cell_type": "markdown",
   "metadata": {},
   "source": [
    "Display the Clean Image along with the Model's Classification"
   ]
  },
  {
   "cell_type": "code",
   "execution_count": null,
   "metadata": {},
   "outputs": [],
   "source": [
    "display_image_logits(np.copy(img), get_logits(np.copy(img)), label)"
   ]
  },
  {
   "cell_type": "markdown",
   "metadata": {},
   "source": [
    "Run the Original Attack on the Image"
   ]
  },
  {
   "cell_type": "code",
   "execution_count": null,
   "metadata": {},
   "outputs": [],
   "source": [
    "adv_orig = attack_orig.run(np.copy(img), label, None)\n",
    "display_image_logits(adv_orig, get_logits(adv_orig), label)"
   ]
  },
  {
   "cell_type": "markdown",
   "metadata": {},
   "source": [
    "Run the Original Attack modified to use Cross Entropy Loss on the Image"
   ]
  },
  {
   "cell_type": "code",
   "execution_count": null,
   "metadata": {},
   "outputs": [],
   "source": [
    "adv_ce = attack_ce.run(np.copy(img), label, None)\n",
    "display_image_logits(adv_ce, get_logits(adv_ce), label)"
   ]
  },
  {
   "cell_type": "markdown",
   "metadata": {},
   "source": [
    "Run the Auto-PGD Attack on the Image"
   ]
  },
  {
   "cell_type": "code",
   "execution_count": null,
   "metadata": {},
   "outputs": [],
   "source": [
    "adv_apgd = attack_apgd.run(np.copy(img), label, None)\n",
    "display_image_logits(adv_orig, get_logits(adv_apgd), label)"
   ]
  }
 ],
 "metadata": {
  "kernelspec": {
   "display_name": "Python 3.7.12 ('test_env')",
   "language": "python",
   "name": "python3"
  },
  "language_info": {
   "codemirror_mode": {
    "name": "ipython",
    "version": 3
   },
   "file_extension": ".py",
   "mimetype": "text/x-python",
   "name": "python",
   "nbconvert_exporter": "python",
   "pygments_lexer": "ipython3",
   "version": "3.7.12"
  },
  "vscode": {
   "interpreter": {
    "hash": "355b4285e90cbaa4f279e6115d0a7ac17f9df53164e41e9e513d7f7c22175a70"
   }
  }
 },
 "nbformat": 4,
 "nbformat_minor": 2
}
